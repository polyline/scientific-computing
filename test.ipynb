{
 "cells": [
  {
   "cell_type": "code",
   "execution_count": 3,
   "metadata": {},
   "outputs": [],
   "source": [
    "# Test Matplotlib\n",
    "import matplotlib\n"
   ]
  },
  {
   "cell_type": "code",
   "execution_count": 2,
   "metadata": {},
   "outputs": [
    {
     "name": "stdout",
     "output_type": "stream",
     "text": [
      "['appnope==0.1.0', 'bleach==2.1.2', 'cycler==0.10.0', 'decorator==4.2.1', 'entrypoints==0.2.3', 'html5lib==1.0.1', 'ipykernel==4.8.1', 'ipython-genutils==0.2.0', 'ipython==6.2.1', 'ipywidgets==7.1.1', 'jedi==0.11.1', 'jinja2==2.10', 'jsonschema==2.6.0', 'jupyter-client==5.2.2', 'jupyter-console==5.2.0', 'jupyter-core==4.4.0', 'jupyter==1.0.0', 'markupsafe==1.0', 'matplotlib==2.1.2', 'mistune==0.8.3', 'nbconvert==5.3.1', 'nbformat==4.4.0', 'nltk==3.2.5', 'notebook==5.4.0', 'numpy==1.13.3', 'pandocfilters==1.4.2', 'parso==0.1.1', 'pexpect==4.4.0', 'pickleshare==0.7.4', 'pip==9.0.1', 'prompt-toolkit==1.0.15', 'ptyprocess==0.5.2', 'pygments==2.2.0', 'pyparsing==2.2.0', 'python-dateutil==2.6.1', 'pytz==2017.3', 'pyzmq==17.0.0', 'qtconsole==4.3.1', 'send2trash==1.4.2', 'setuptools==36.5.0', 'simplegeneric==0.8.1', 'six==1.11.0', 'terminado==0.8.1', 'testpath==0.3.1', 'tornado==4.5.3', 'traitlets==4.3.2', 'wcwidth==0.1.7', 'webencodings==0.5.1', 'wheel==0.30.0', 'widgetsnbextension==3.1.3']\n"
     ]
    }
   ],
   "source": [
    "import pip\n",
    "installed_packages = pip.get_installed_distributions()\n",
    "installed_packages_list = sorted([\"%s==%s\" % (i.key, i.version)\n",
    "     for i in installed_packages])\n",
    "print(installed_packages_list)\n"
   ]
  },
  {
   "cell_type": "code",
   "execution_count": null,
   "metadata": {},
   "outputs": [],
   "source": []
  }
 ],
 "metadata": {
  "kernelspec": {
   "display_name": "Python 3",
   "language": "python",
   "name": "python3"
  },
  "language_info": {
   "codemirror_mode": {
    "name": "ipython",
    "version": 3
   },
   "file_extension": ".py",
   "mimetype": "text/x-python",
   "name": "python",
   "nbconvert_exporter": "python",
   "pygments_lexer": "ipython3",
   "version": "3.6.3"
  }
 },
 "nbformat": 4,
 "nbformat_minor": 2
}
